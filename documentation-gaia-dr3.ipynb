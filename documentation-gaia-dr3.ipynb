{
 "cells": [
  {
   "cell_type": "markdown",
   "id": "9a615f10-36a1-4731-991a-9157cca363c0",
   "metadata": {
    "tags": []
   },
   "source": [
    "# Gaia Data Release 3 \n",
    "\n",
    "Contents:\n",
    "\n",
    "- [Introduction](#introduction)\n",
    "- [How to access](#how-to-access)\n",
    "- [Dataset information](#dataset-information)\n",
    "- [Technical information](#technical-information)\n",
    "- [Reference](#reference)\n",
    "\n",
    "\n",
    "## Introduction\n",
    "\n",
    "[EN]\n",
    "\n",
    "\n",
    "The Gaia mission, conducted by the European Space Agency (ESA), was launched on December 19, 2013, with the aim of mapping the Milky Way in three dimensions. Currently, it is in its third phase, known as Gaia Data Release 3 (Gaia DR3), launched on June 13, 2022. This release provided high-precision astrometry of the positions and movements of a wide range of celestial objects. Gaia DR3 offers data on sky position, right ascension (α), declination (δ), parallax, and proper motion for approximately 1.46 billion sources.\n",
    "\n",
    "Gaia DR3 uses three photometric bands to measure the magnitudes of sources: G, G<sub>BP</sub>, and G<sub>RP</sub>, present in previous releases. The major innovation in this phase is the addition of G<sub>RVS</sub> photometry. To access the official Gaia DR3 documentation, you can follow this link: https://gea.esac.esa.int/archive/documentation/GDR3/index.html\n",
    "\n",
    "[PT-BR]\n",
    "\n",
    "\n",
    "A missão Gaia, conduzida pela Agência Espacial Europeia (ESA), foi lançada em 19 de dezembro de 2013 com o objetivo de mapear a Via Láctea em três dimensões. Atualmente, encontra-se em sua terceira fase, conhecida como Gaia Data Release 3 (Gaia DR3) lançada em 13 de junho de 2022. Este lançamento proporcionou uma astrometria de alta precisão das posições e movimentos de uma vasta gama de objetos celestes. O Gaia DR3 oferece dados sobre a posição no céu, ascensão reta (α) e declinação (δ), paralaxe e movimento próprio para aproximadamente 1,46 bilhão de fontes.\n",
    "\n",
    "Gaia DR3 utiliza três bandas fotométricas para medir as magnitudes das fontes: G, G<sub>BP</sub> e G<sub>RP</sub>, presentes nos lançamentos anteriores. A grande novidade desta fase é a adição da fotometria G<sub>RVS</sub>. A documentação oficial do Gaia DR3 está disponível no link: https://gea.esac.esa.int/archive/documentation/GDR3/index.html\n",
    "\n",
    "## How to Acess \n",
    "\n",
    "[EN]\n",
    "\n",
    "<p>The Gaia DR3 data can be accessed on the website <a href=\"http://docs.linea.org.br/\">http://docs.linea.org.br/</a> under the \"Data\" section.</p>\n",
    "\n",
    "<p>The <a href=\"https://www2.linea.org.br/\">LIneA</a> (Interinstitutional Laboratory for e-Astronomy) provides a Python library called <code>dblinea</code> that allows you to access their own database. This library is useful for retrieving data within the <a href=\"https://jupyter.org/hub\">JupyterHub</a> platform. To use this library, you need to have the <code>dblinea</code> package installed in your Python environment. You can install it using the following command:</p>\n",
    "\n",
    "<pre><code>pip install dblinea</code></pre>\n",
    "\n",
    "<p>The connection to the database is established through the <code>DBBase</code> class. An example of usage is creating an instance of <code>DBBase</code> to perform queries on the database:</p>\n",
    "\n",
    "<pre><code># Import the DBBase class from the dblinea package\n",
    "from dblinea import DBBase\n",
    "\n",
    "# Create an instance of DBBase. This instance will be used to connect to the database.\n",
    "db = DBBase()\n",
    "\n",
    "# Describes the name and type of columns in a table.\n",
    "db.describe_table(\"dr3\", schema=\"gaia\")\n",
    "</code></pre>\n",
    "\n",
    "<p>For the official and comprehensive documentation, visit: <a href=\"https://dblinea.readthedocs.io/en/latest/quickstart.html\">https://dblinea.readthedocs.io/en/latest/quickstart.html</a></p>\n",
    "\n",
    "\n",
    "[PT-BR]   \n",
    "\n",
    "\n",
    "Os dados do Gaia DR3 podem ser acessados site http://docs.linea.org.br/ na seção \"Dados\".\n",
    "\n",
    "O <a href=\"https://www2.linea.org.br/\">LIneA</a> (Laboratório Interinstitucional de e-Astronomia) disponibiliza uma biblioteca Python chamada `dblinea` que permite acessar o banco de dados da própria instituição. Essa biblioteca é útil para recuperar dados dentro da plataforma <a href=\"https://jupyter.org/hub\">JupyterHub</a>. Para utilizar essa bibilioteca é necessário ter o pacote dblinea instalado em seu ambiente Python. Para instalá-lo use o comando:\n",
    "\n",
    "<pre><code>pip install dblinea</code></pre>\n",
    "\n",
    "A conexão com o banco de dados é feita pela classe DBBase. Um exemplo de utilização é criar uma instância do DBBase para fazer consultas ao banco de dados.\n",
    "\n",
    " <pre><code>   # Importe a classe DBBase do pacote dblinea\n",
    "    from dblinea import DBBase\n",
    "  \n",
    "    # Crie uma instância do DBBase. Essa instância será usada para se conectar ao banco de dados.\n",
    "    db = DBBase()\n",
    "    \n",
    "    # Descreve o nome e o tipo das colunas de uma tabela.\n",
    "    db.describe_table(\"dr3\", schema = \"gaia\")\n",
    "</code></pre>\n",
    "\n",
    "Consulte a documentação oficial e completa no site: https://dblinea.readthedocs.io/en/latest/quickstart.html\n",
    "\n",
    "\n",
    "## Examples\n",
    "\n",
    "### Search and Analysis of Overdensity in the Proper Motion Diagram (VPD:\n",
    "\n",
    "Here is an example code for searching and analyzing a region in space where the density of objects is higher than the expected average density. Overdensities may indicate star clusters, galaxy groups, or other cosmic structures. The method used for this calculation is ‘gaussian_kde’ (Kernel Density Estimation), which is a technique used to estimate the probability density of a random variable. It works by smoothing the data, creating a “cloud” of Gaussian distributions centered around each data point. These Gaussian distributions are then summed to obtain a smooth estimate of the probability density function.\n",
    "\n",
    "<pre><code>import numpy as np\n",
    "import matplotlib.pyplot as plt\n",
    "from scipy.stats import gaussian_kde\n",
    "from dblinea import DBBase  \n",
    "\n",
    "# Create an instance of DBBase\n",
    "db = DBBase()\n",
    "\n",
    "# Specify the table name and schema\n",
    "table_name = \"dr3\"\n",
    "schema_name = \"gaia\"\n",
    "\n",
    "# Fetch data from the specified table (replace with actual query)\n",
    "query = f\"SELECT pmra, pmdec FROM {schema_name}.{table_name}\"\n",
    "data = db.execute(query)\n",
    "\n",
    "# Calculate data density using Gaussian Kernel Density Estimation\n",
    "kde = gaussian_kde(data.T)  # Transpose data for proper shape\n",
    "\n",
    "# Generate an array of values for the density plot\n",
    "pmra_values = np.linspace(data[:, 0].min(), data[:, 0].max(), 100)\n",
    "pmdec_values = np.linspace(data[:, 1].min(), data[:, 1].max(), 100)\n",
    "pmra_grid, pmdec_grid = np.meshgrid(pmra_values, pmdec_values)\n",
    "coords = np.vstack([pmra_grid.ravel(), pmdec_grid.ravel()])\n",
    "density_values = kde(coords).reshape(pmra_grid.shape)\n",
    "\n",
    "# Create the overdensity plot\n",
    "plt.figure(figsize=(10, 6))\n",
    "plt.imshow(density_values.T, origin='lower', aspect='auto', cmap='viridis',\n",
    "           extent=(pmra_values.min(), pmra_values.max(), pmdec_values.min(), pmdec_values.max()))\n",
    "plt.colorbar(label='Density')\n",
    "plt.xlabel('Proper Motion in RA')\n",
    "plt.ylabel('Proper Motion in DEC')\n",
    "plt.title('Overdensity in Proper Motion Diagram (VPD)')\n",
    "plt.show()\n",
    "</code></pre>\n",
    "  \n",
    "## Dataset information \n",
    "\n",
    "The Gaia Data Release 3 (DR3) comprises several tables with 152 columns and over 500 thousand rows. Additionally, 11 indexes were created using the q3c spatial index. These indexes are associated with essential fields, such as:\n",
    "- `source_id`\n",
    "- `ra`\n",
    "- `dec`\n",
    "- `phot_g_mean_mag`\n",
    "- `parallax`\n",
    "- `pm`\n",
    "- `pmra`\n",
    "- `pmdec`\n",
    "- `duplicated_source`\n",
    "- `phot_g_mean_flux`\n",
    "- `phot_variable_flag`\n",
    "\n",
    "\n",
    "\n",
    "### Data Product\n",
    "\n",
    "[EN]\n",
    "The following table provides a description of the columns in Gaia DR3, including their associated data types.\n",
    "\n",
    "[PT-BR]   \n",
    "A tabela a seguir fornece uma descrição das colunas no Gaia DR3, incluindo seus data types associados.  \n",
    "\n",
    " \n",
    "\n",
| Column                          | Data Type    | Description                                                                                        |
|---------------------------------|--------------|----------------------------------------------------------------------------------------------------|
| SOLUTION_ID                     | int8         | Solution Identifier                                                                                |
| DESIGNATION                     | varchar(255) | Unique source designation (unique across all Data Releases)                                        |
| SOURCE_ID *                     | int8         | Unique source identifier (unique within a particular Data Release)                                  |
| RANDOM_INDEX                    | int8         | Random index for use when selecting subsets                                                         |
| REF_EPOCH                       | float8       | Reference epoch (Time[Julian Years])                                                                |
| RA *                            | float8       | Right ascension (Angle[deg])                                                                       |
| RA_ERROR                        | float4       | Standard error of right ascension (Angle[mas])                                                      |
| DEC *                           | float8       | Declination (double, Angle[deg])                                                                    |
| DEC_ERROR                       | float4       | Standard error of declination (Angle[mas])                                                          |
| PARALLAX *                      | float8       | Parallax (Angle[mas])                                                                              |
| PARALLAX_ERROR                  | float4       | Standard error of parallax (Angle[mas])                                                             |
| PARALLAX_OVER_ERROR             | float4       | Parallax divided by its standard error                                                              |
| PM *                            | float4       | Total proper motion (Angular Velocity[mas/year])                                                    |
| PMRA *                          | float8       | Proper motion in right ascension direction (dngular Velocity[mas/year] )                            |
| PMRA_ERROR                      | float4       | Standard error of proper motion in right ascension direction (Angular Velocity[mas/year] )          |
| PMDEC *                         | float8       | Proper motion in declination direction (Angular Velocity[mas/year] )                                |
| PMDEC_ERROR                     | float4       | Standard error of proper motion in declination direction (Angular Velocity[mas/year] )              |
| RA_DEC_CORR                     | float4       | Correlation between right ascension and declination (Dimensionless)                                  |
| RA_PARALLAX_CORR                | float4       | Correlation between right ascension and parallax (Dimensionless)                                     |
| RA_PMRA_CORR                    | float4       | Correlation between right ascension and proper motion in right ascension (Dimensionless)             |
| RA_PMDEC_CORR                   | float4       | Correlation between right ascension and proper motion in declination (Dimensionless)                 |
| DEC_PARALLAX_CORR               | float4       | Correlation between declination and parallax (float, Dimensionless)                                   |
| DEC_PMRA_CORR                   | float4       | Correlation between declination and proper motion in right ascension (Dimensionless)                  |
| DEC_PMDEC_CORR                  | float4       | Correlation between declination and proper motion in declination (Dimensionless)                      |
| PARALLAX_PMRA_CORR             | float4       | Correlation between parallax and proper motion in right ascension (Dimensionless)                     |
| PARALLAX_PMDEC_CORR            | float4       | Correlation between parallax and proper motion in declination (Dimensionless)                         |
| PMRA_PMDEC_CORR                 | float4       | Correlation between proper motion in right ascension and proper motion in declination (Dimensionless) |
| ASTROMETRIC_N_OBS_AL            | int2         | Total number of observations in the along-scan (AL) direction (short)                                |
| ASTROMETRIC_N_OBS_AC            | int2         | Total number of observations in the across-scan (AC) direction (short)                                |
| ASTROMETRIC_N_GOOD_OBS_AL       | int2         | Number of good observations in the along-scan (AL) direction (short)                                  |
| ASTROMETRIC_N_BAD_OBS_AL        | int2         | Number of bad observations in the along-scan (AL) direction (short)                                   |
| ASTROMETRIC_GOF_AL              | float4       | Goodness of fit statistic of model wrt along-scan observations                                       |
| ASTROMETRIC_CHI2_AL             | float4       | AL chi-square value                                                                                |
| ASTROMETRIC_EXCESS_NOISE        | float4       | Excess noise of the source (Angle[mas])                                                             |
| ASTROMETRIC_EXCESS_NOISE_SIG    | float4       | Significance of excess noise                                                                       |
| ASTROMETRIC_PARAMS_SOLVED       | int2         | Which parameters have been solved for?                                                              |
| ASTROMETRIC_PRIMARY_FLAG        | bool         | Primary or seconday                                                                                |
| NU_EFF_USED_IN_ASTROMETRY       | float4       | Effective wavenumber of the source used in the astrometric solution (Misc[μm<sup>-1</sup>])         |
| PSEUDOCOLOUR                    | float4       | Astrometrically estimated pseudocolour of the source (Misc[μm<sup>-1</sup>])                         |
| PSEUDOCOLOUR_ERROR              | float4       | Standard error of the pseudocolour of the source (Misc[μm<sup>-1</sup>])                              |
| RA_PSEUDOCOLOUR_CORR            | float4       | Correlation between right ascension and pseudocolour                                                |
| DEC_PSEUDOCOLOUR_CORR           | float4       | Correlation between declination and pseudocolour                                                     |
| PARALLAX_PSEUDOCOLOUR_CORR      | float4       | Correlation between parallax and pseudocolour                                                       |
| PMRA_PSEUDOCOLOUR_CORR          | float4       | Correlation between proper motion in right asension and pseudocolour                                 |
| PMDEC_PSEUDOCOLOUR_CORR         | float4       | Correlation between proper motion in declination and pseudocolour                                     |
| ASTROMETRIC_MATCHED_TRANSITS    | int2         | Matched FOV transits used in the AGIS solution                                                      |
| VISIBILITY_PERIODS_USED         | int2         | Number of visibility periods used in Astrometric solution                                            |
| ASTROMET



    "\\* Indexed Columns \n",
    "\n",
    "    \n",
    "\n",
    "## Technical information\n",
    "\n",
    "### Download and ingestion details\n",
    "\n",
    "\n",
    "In the following table, the time periods required for downloading Gaia DR3 files and ingesting data into our database are detailed.\n",
    "\n",
    "| Action | Time  |\n",
    "|---|---|\n",
    "| Download*| 12:40:02 |\n",
    "| Ingestion** | 20:38:52 |\n",
    "\n",
    "\\* The total download size was approximately 702G. <br>\n",
    "\\** The data ingestion process commenced at 17:01:49 on April 5, 2024, and concluded at 13:40:41 on April 6, 2024. <br>\n",
    "\n",
    "<br>\n",
    "\n",
    "The tables below display the time dedicated to creating indexes for the Gaia DR3 table and the number of rows and columns.\n",
    "\n",
    "| Indexes | Time  |       \n",
    "|---|---|\n",
    "| qrc*** | 12:56:49 | \n",
    "| source_id | 00:36:23 |\n",
    "| phot_g_mean_mag | 00:35:31 |\n",
    "| parallax | 00:38:28 | \n",
    "| pm | 00:36:21 |\n",
    "| pmra | 00:38:34 | \n",
    "| pmdec | 00:38:34 | \n",
    "| duplicated_source | 00:27:04 | \n",
    "| phot_g_mean_flux | 00:41:38 | \n",
    "| phot_variable_flag | 00:29:02 | \n",
    "\n",
    "\n",
    "\\*** Spatial q3c index\n",
    "\n",
    "<br>\n",
    "\n",
    "| Others | -  |\n",
    "|---|---|\n",
    "| Number of rows | 1.811.709.771 | \n",
    "| Number of columns | 152 | \n",
    "\n",
    "\n",
    "\n",
    "\n",
    "## Reference \n",
    "\n",
    " \n",
    "\n",
    "- https://gea.esac.esa.int/archive/documentation/GDR1/datamodel/\n",
    "- https://www.cosmos.esa.int/web/gaia/dr3\n",
    "- https://dblinea.readthedocs.io/en/latest/quickstart.html"
   ]
  },
  {
   "cell_type": "code",
   "execution_count": null,
   "id": "34fc71b2-17d4-4192-9e21-d0d03875a9f2",
   "metadata": {
    "tags": []
   },
   "outputs": [],
   "source": [
    "import numpy as np\n",
    "import matplotlib.pyplot as plt\n",
    "from scipy.stats import gaussian_kde\n",
    "from dblinea import DBBase  # Assuming you have the dblinea package installed\n",
    "\n",
    "# Create an instance of DBBase\n",
    "db = DBBase()\n",
    "\n",
    "# Specify the table name and schema\n",
    "table_name = \"dr3\"\n",
    "schema_name = \"gaia\"\n",
    "\n",
    "# Fetch data from the specified table (replace with actual query)\n",
    "query = f\"SELECT pmra, pmdec FROM {schema_name}.{table_name}\"\n",
    "data = db.execute(query)\n",
    "\n",
    "# Calculate data density using Gaussian Kernel Density Estimation\n",
    "kde = gaussian_kde(data.T)  # Transpose data for proper shape\n",
    "\n",
    "# Generate an array of values for the density plot\n",
    "pmra_values = np.linspace(data[:, 0].min(), data[:, 0].max(), 100)\n",
    "pmdec_values = np.linspace(data[:, 1].min(), data[:, 1].max(), 100)\n",
    "pmra_grid, pmdec_grid = np.meshgrid(pmra_values, pmdec_values)\n",
    "coords = np.vstack([pmra_grid.ravel(), pmdec_grid.ravel()])\n",
    "density_values = kde(coords).reshape(pmra_grid.shape)\n",
    "\n",
    "# Create the overdensity plot\n",
    "plt.figure(figsize=(10, 6))\n",
    "plt.imshow(density_values.T, origin='lower', aspect='auto', cmap='viridis',\n",
    "           extent=(pmra_values.min(), pmra_values.max(), pmdec_values.min(), pmdec_values.max()))\n",
    "plt.colorbar(label='Density')\n",
    "plt.xlabel('Proper Motion in RA')\n",
    "plt.ylabel('Proper Motion in DEC')\n",
    "plt.title('Overdensity in Proper Motion Diagram (VPD)')\n",
    "plt.show()\n",
    "\n"
   ]
  },
  {
   "cell_type": "code",
   "execution_count": null,
   "id": "c44064f3-0bef-4c64-900c-d4141229d7be",
   "metadata": {},
   "outputs": [],
   "source": []
  }
 ],
 "metadata": {
  "kernelspec": {
   "display_name": "Python 3 (ipykernel)",
   "language": "python",
   "name": "python3"
  },
  "language_info": {
   "codemirror_mode": {
    "name": "ipython",
    "version": 3
   },
   "file_extension": ".py",
   "mimetype": "text/x-python",
   "name": "python",
   "nbconvert_exporter": "python",
   "pygments_lexer": "ipython3",
   "version": "3.10.10"
  }
 },
 "nbformat": 4,
 "nbformat_minor": 5
}
